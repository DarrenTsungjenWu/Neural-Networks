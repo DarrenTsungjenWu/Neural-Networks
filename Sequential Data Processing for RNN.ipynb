{
 "cells": [
  {
   "cell_type": "code",
   "execution_count": 1,
   "metadata": {},
   "outputs": [],
   "source": [
    "import numpy as np\n",
    "import pandas as pd"
   ]
  },
  {
   "cell_type": "code",
   "execution_count": 49,
   "metadata": {},
   "outputs": [],
   "source": [
    "#Define the sequential data transformation\n",
    "#Would work better on the pandas.DataFrame (Series-like) type of data\n",
    "#Resources: #Resources: https://github.com/jeffheaton/t81_558_deep_learning/blob/master/t81_558_class_10_2_lstm.ipynb \n",
    "\n",
    "def to_sequential(data, seq_size):\n",
    "    x = []\n",
    "    y = []\n",
    "    for i in range(len(data) - seq_size):\n",
    "        first_window = data[i:(i + seq_size)]\n",
    "        further_window = data[i + seq_size]\n",
    "        #print(first_window)\n",
    "        first_window = [[value] for value in first_window]\n",
    "        x.append(first_window)\n",
    "        y.append(further_window)\n",
    "    return np.array(x), np.array(y).reshape(len(y), 1)\n",
    "    #Series input into array: some data format issue occurs, so .reshape() is called to fix it into proper results.\n"
   ]
  },
  {
   "cell_type": "code",
   "execution_count": 4,
   "metadata": {},
   "outputs": [
    {
     "data": {
      "text/html": [
       "<div>\n",
       "<style scoped>\n",
       "    .dataframe tbody tr th:only-of-type {\n",
       "        vertical-align: middle;\n",
       "    }\n",
       "\n",
       "    .dataframe tbody tr th {\n",
       "        vertical-align: top;\n",
       "    }\n",
       "\n",
       "    .dataframe thead th {\n",
       "        text-align: right;\n",
       "    }\n",
       "</style>\n",
       "<table border=\"1\" class=\"dataframe\">\n",
       "  <thead>\n",
       "    <tr style=\"text-align: right;\">\n",
       "      <th></th>\n",
       "      <th>Date</th>\n",
       "      <th>X</th>\n",
       "    </tr>\n",
       "  </thead>\n",
       "  <tbody>\n",
       "    <tr>\n",
       "      <th>0</th>\n",
       "      <td>2020-01-01</td>\n",
       "      <td>1</td>\n",
       "    </tr>\n",
       "    <tr>\n",
       "      <th>1</th>\n",
       "      <td>2020-01-02</td>\n",
       "      <td>17</td>\n",
       "    </tr>\n",
       "    <tr>\n",
       "      <th>2</th>\n",
       "      <td>2020-01-03</td>\n",
       "      <td>34</td>\n",
       "    </tr>\n",
       "    <tr>\n",
       "      <th>3</th>\n",
       "      <td>2020-01-04</td>\n",
       "      <td>2</td>\n",
       "    </tr>\n",
       "    <tr>\n",
       "      <th>4</th>\n",
       "      <td>2020-01-05</td>\n",
       "      <td>23</td>\n",
       "    </tr>\n",
       "    <tr>\n",
       "      <th>5</th>\n",
       "      <td>2020-01-06</td>\n",
       "      <td>9</td>\n",
       "    </tr>\n",
       "    <tr>\n",
       "      <th>6</th>\n",
       "      <td>2020-01-07</td>\n",
       "      <td>18</td>\n",
       "    </tr>\n",
       "    <tr>\n",
       "      <th>7</th>\n",
       "      <td>2020-01-08</td>\n",
       "      <td>17</td>\n",
       "    </tr>\n",
       "    <tr>\n",
       "      <th>8</th>\n",
       "      <td>2020-01-09</td>\n",
       "      <td>30</td>\n",
       "    </tr>\n",
       "    <tr>\n",
       "      <th>9</th>\n",
       "      <td>2020-01-10</td>\n",
       "      <td>11</td>\n",
       "    </tr>\n",
       "  </tbody>\n",
       "</table>\n",
       "</div>"
      ],
      "text/plain": [
       "         Date   X\n",
       "0  2020-01-01   1\n",
       "1  2020-01-02  17\n",
       "2  2020-01-03  34\n",
       "3  2020-01-04   2\n",
       "4  2020-01-05  23\n",
       "5  2020-01-06   9\n",
       "6  2020-01-07  18\n",
       "7  2020-01-08  17\n",
       "8  2020-01-09  30\n",
       "9  2020-01-10  11"
      ]
     },
     "execution_count": 4,
     "metadata": {},
     "output_type": "execute_result"
    }
   ],
   "source": [
    "#Create Demo dataset in dataframe type\n",
    "b = pd.DataFrame({'Date':[\"2020-01-01\", \"2020-01-02\", \"2020-01-03\", \"2020-01-04\", \"2020-01-05\", \"2020-01-06\",\n",
    "                         \"2020-01-07\", \"2020-01-08\", \"2020-01-09\", \"2020-01-10\"],\n",
    "                  'X':[1, 17, 34, 2, 23, 9, 18, 17, 30, 11]})\n",
    "b"
   ]
  },
  {
   "cell_type": "code",
   "execution_count": 26,
   "metadata": {},
   "outputs": [
    {
     "data": {
      "text/plain": [
       "<matplotlib.axes._subplots.AxesSubplot at 0x247b69e7888>"
      ]
     },
     "execution_count": 26,
     "metadata": {},
     "output_type": "execute_result"
    },
    {
     "data": {
      "image/png": "[encoded data removed]",
      "text/plain": [
       "<Figure size 432x288 with 1 Axes>"
      ]
     },
     "metadata": {
      "needs_background": "light"
     },
     "output_type": "display_data"
    }
   ],
   "source": [
    "%matplotlib inline\n",
    "b.plot(x = 'Date')"
   ]
  },
  {
   "cell_type": "code",
   "execution_count": 35,
   "metadata": {},
   "outputs": [
    {
     "name": "stdout",
     "output_type": "stream",
     "text": [
      "0     1\n",
      "1    17\n",
      "2    34\n",
      "3     2\n",
      "4    23\n",
      "5     9\n",
      "Name: X, dtype: int64\n",
      "6    18\n",
      "7    17\n",
      "8    30\n",
      "9    11\n",
      "Name: X, dtype: int64\n"
     ]
    }
   ],
   "source": [
    "b_train = b[b['Date'] < \"2020-01-07\"]\n",
    "b_train = b_train['X']\n",
    "b_test = b[b['Date'] >= \"2020-01-07\"]\n",
    "b_test = b_test['X']\n",
    "print(b_train); print(b_test)"
   ]
  },
  {
   "cell_type": "code",
   "execution_count": 50,
   "metadata": {},
   "outputs": [
    {
     "name": "stdout",
     "output_type": "stream",
     "text": [
      "[[[ 1]]\n",
      "\n",
      " [[17]]\n",
      "\n",
      " [[34]]\n",
      "\n",
      " [[ 2]]\n",
      "\n",
      " [[23]]]\n",
      "[[17]\n",
      " [34]\n",
      " [ 2]\n",
      " [23]\n",
      " [ 9]]\n"
     ]
    }
   ],
   "source": [
    "train_x_seq, train_y_seq = to_sequential(b_train, 1)\n",
    "print(train_x_seq); print(train_y_seq)"
   ]
  },
  {
   "cell_type": "code",
   "execution_count": 51,
   "metadata": {},
   "outputs": [
    {
     "name": "stdout",
     "output_type": "stream",
     "text": [
      "(5, 1, 1)\n",
      "(5, 1)\n"
     ]
    }
   ],
   "source": [
    "print(train_x_seq.shape); print(train_y_seq.shape)"
   ]
  },
  {
   "cell_type": "code",
   "execution_count": null,
   "metadata": {},
   "outputs": [],
   "source": []
  },
  {
   "cell_type": "code",
   "execution_count": null,
   "metadata": {},
   "outputs": [],
   "source": []
  },
  {
   "cell_type": "code",
   "execution_count": 16,
   "metadata": {},
   "outputs": [],
   "source": [
    "def to_sequences(SEQUENCE_SIZE, obs):\n",
    "    x = []\n",
    "    y = []\n",
    "\n",
    "    for i in range(len(obs)-SEQUENCE_SIZE):\n",
    "        #print(i)\n",
    "        window = obs[i:(i+SEQUENCE_SIZE)]\n",
    "        after_window = obs[i+SEQUENCE_SIZE]\n",
    "        window = [[x] for x in window]\n",
    "        #print(\"{} - {}\".format(window,after_window))\n",
    "        x.append(window)\n",
    "        y.append(after_window)\n",
    "        \n",
    "    return np.array(x),np.array(y)"
   ]
  },
  {
   "cell_type": "code",
   "execution_count": 22,
   "metadata": {},
   "outputs": [
    {
     "name": "stdout",
     "output_type": "stream",
     "text": [
      "[[[ 1]]\n",
      "\n",
      " [[17]]\n",
      "\n",
      " [[34]]\n",
      "\n",
      " [[ 2]]\n",
      "\n",
      " [[23]]]\n",
      "[17 34  2 23  9]\n",
      "(5, 1, 1)\n",
      "(5,)\n"
     ]
    }
   ],
   "source": [
    "train_x_seq, train_y_seq = to_sequences(1, b_train)\n",
    "print(train_x_seq); print(train_y_seq)\n",
    "print(train_x_seq.shape); print(train_y_seq.shape)"
   ]
  }
 ],
 "metadata": {
  "kernelspec": {
   "display_name": "Python 3",
   "language": "python",
   "name": "python3"
  },
  "language_info": {
   "codemirror_mode": {
    "name": "ipython",
    "version": 3
   },
   "file_extension": ".py",
   "mimetype": "text/x-python",
   "name": "python",
   "nbconvert_exporter": "python",
   "pygments_lexer": "ipython3",
   "version": "3.7.6"
  }
 },
 "nbformat": 4,
 "nbformat_minor": 4
}
