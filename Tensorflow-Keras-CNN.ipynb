{
 "cells": [
  {
   "cell_type": "code",
   "execution_count": 1,
   "metadata": {},
   "outputs": [
    {
     "name": "stdout",
     "output_type": "stream",
     "text": [
      "Requirement already satisfied: tensorflow==2.2.0 in c:\\users\\asus\\anaconda3\\lib\\site-packages (2.2.0)\n",
      "Requirement already satisfied: keras-preprocessing>=1.1.0 in c:\\users\\asus\\anaconda3\\lib\\site-packages (from tensorflow==2.2.0) (1.1.2)\n",
      "Requirement already satisfied: tensorboard<2.3.0,>=2.2.0 in c:\\users\\asus\\anaconda3\\lib\\site-packages (from tensorflow==2.2.0) (2.2.2)\n",
      "Requirement already satisfied: tensorflow-estimator<2.3.0,>=2.2.0 in c:\\users\\asus\\anaconda3\\lib\\site-packages (from tensorflow==2.2.0) (2.2.0)\n",
      "Requirement already satisfied: gast==0.3.3 in c:\\users\\asus\\anaconda3\\lib\\site-packages (from tensorflow==2.2.0) (0.3.3)\n",
      "Requirement already satisfied: h5py<2.11.0,>=2.10.0 in c:\\users\\asus\\anaconda3\\lib\\site-packages (from tensorflow==2.2.0) (2.10.0)\n",
      "Requirement already satisfied: scipy==1.4.1; python_version >= \"3\" in c:\\users\\asus\\anaconda3\\lib\\site-packages (from tensorflow==2.2.0) (1.4.1)\n",
      "Requirement already satisfied: wheel>=0.26; python_version >= \"3\" in c:\\users\\asus\\anaconda3\\lib\\site-packages (from tensorflow==2.2.0) (0.34.2)\n",
      "Requirement already satisfied: six>=1.12.0 in c:\\users\\asus\\anaconda3\\lib\\site-packages (from tensorflow==2.2.0) (1.14.0)\n",
      "Requirement already satisfied: astunparse==1.6.3 in c:\\users\\asus\\anaconda3\\lib\\site-packages (from tensorflow==2.2.0) (1.6.3)\n",
      "Requirement already satisfied: numpy<2.0,>=1.16.0 in c:\\users\\asus\\anaconda3\\lib\\site-packages (from tensorflow==2.2.0) (1.18.1)\n",
      "Requirement already satisfied: opt-einsum>=2.3.2 in c:\\users\\asus\\anaconda3\\lib\\site-packages (from tensorflow==2.2.0) (3.2.1)\n",
      "Requirement already satisfied: protobuf>=3.8.0 in c:\\users\\asus\\anaconda3\\lib\\site-packages (from tensorflow==2.2.0) (3.12.2)\n",
      "Requirement already satisfied: absl-py>=0.7.0 in c:\\users\\asus\\anaconda3\\lib\\site-packages (from tensorflow==2.2.0) (0.9.0)\n",
      "Requirement already satisfied: grpcio>=1.8.6 in c:\\users\\asus\\anaconda3\\lib\\site-packages (from tensorflow==2.2.0) (1.30.0)\n",
      "Requirement already satisfied: termcolor>=1.1.0 in c:\\users\\asus\\anaconda3\\lib\\site-packages (from tensorflow==2.2.0) (1.1.0)\n",
      "Requirement already satisfied: wrapt>=1.11.1 in c:\\users\\asus\\anaconda3\\lib\\site-packages (from tensorflow==2.2.0) (1.11.2)\n",
      "Requirement already satisfied: google-pasta>=0.1.8 in c:\\users\\asus\\anaconda3\\lib\\site-packages (from tensorflow==2.2.0) (0.2.0)\n",
      "Requirement already satisfied: setuptools>=41.0.0 in c:\\users\\asus\\anaconda3\\lib\\site-packages (from tensorboard<2.3.0,>=2.2.0->tensorflow==2.2.0) (45.2.0.post20200210)\n",
      "Requirement already satisfied: markdown>=2.6.8 in c:\\users\\asus\\anaconda3\\lib\\site-packages (from tensorboard<2.3.0,>=2.2.0->tensorflow==2.2.0) (3.2.2)\n",
      "Requirement already satisfied: werkzeug>=0.11.15 in c:\\users\\asus\\anaconda3\\lib\\site-packages (from tensorboard<2.3.0,>=2.2.0->tensorflow==2.2.0) (1.0.0)\n",
      "Requirement already satisfied: requests<3,>=2.21.0 in c:\\users\\asus\\anaconda3\\lib\\site-packages (from tensorboard<2.3.0,>=2.2.0->tensorflow==2.2.0) (2.22.0)\n",
      "Requirement already satisfied: google-auth-oauthlib<0.5,>=0.4.1 in c:\\users\\asus\\anaconda3\\lib\\site-packages (from tensorboard<2.3.0,>=2.2.0->tensorflow==2.2.0) (0.4.1)\n",
      "Requirement already satisfied: tensorboard-plugin-wit>=1.6.0 in c:\\users\\asus\\anaconda3\\lib\\site-packages (from tensorboard<2.3.0,>=2.2.0->tensorflow==2.2.0) (1.7.0)\n",
      "Requirement already satisfied: google-auth<2,>=1.6.3 in c:\\users\\asus\\anaconda3\\lib\\site-packages (from tensorboard<2.3.0,>=2.2.0->tensorflow==2.2.0) (1.18.0)\n",
      "Requirement already satisfied: importlib-metadata; python_version < \"3.8\" in c:\\users\\asus\\anaconda3\\lib\\site-packages (from markdown>=2.6.8->tensorboard<2.3.0,>=2.2.0->tensorflow==2.2.0) (1.5.0)\n",
      "Requirement already satisfied: chardet<3.1.0,>=3.0.2 in c:\\users\\asus\\anaconda3\\lib\\site-packages (from requests<3,>=2.21.0->tensorboard<2.3.0,>=2.2.0->tensorflow==2.2.0) (3.0.4)\n",
      "Requirement already satisfied: urllib3!=1.25.0,!=1.25.1,<1.26,>=1.21.1 in c:\\users\\asus\\anaconda3\\lib\\site-packages (from requests<3,>=2.21.0->tensorboard<2.3.0,>=2.2.0->tensorflow==2.2.0) (1.25.8)\n",
      "Requirement already satisfied: idna<2.9,>=2.5 in c:\\users\\asus\\anaconda3\\lib\\site-packages (from requests<3,>=2.21.0->tensorboard<2.3.0,>=2.2.0->tensorflow==2.2.0) (2.8)\n",
      "Requirement already satisfied: certifi>=2017.4.17 in c:\\users\\asus\\anaconda3\\lib\\site-packages (from requests<3,>=2.21.0->tensorboard<2.3.0,>=2.2.0->tensorflow==2.2.0) (2019.11.28)\n",
      "Requirement already satisfied: requests-oauthlib>=0.7.0 in c:\\users\\asus\\anaconda3\\lib\\site-packages (from google-auth-oauthlib<0.5,>=0.4.1->tensorboard<2.3.0,>=2.2.0->tensorflow==2.2.0) (1.3.0)\n",
      "Requirement already satisfied: cachetools<5.0,>=2.0.0 in c:\\users\\asus\\anaconda3\\lib\\site-packages (from google-auth<2,>=1.6.3->tensorboard<2.3.0,>=2.2.0->tensorflow==2.2.0) (4.1.1)\n",
      "Requirement already satisfied: pyasn1-modules>=0.2.1 in c:\\users\\asus\\anaconda3\\lib\\site-packages (from google-auth<2,>=1.6.3->tensorboard<2.3.0,>=2.2.0->tensorflow==2.2.0) (0.2.8)\n",
      "Requirement already satisfied: rsa<5,>=3.1.4; python_version >= \"3\" in c:\\users\\asus\\anaconda3\\lib\\site-packages (from google-auth<2,>=1.6.3->tensorboard<2.3.0,>=2.2.0->tensorflow==2.2.0) (4.6)\n",
      "Requirement already satisfied: zipp>=0.5 in c:\\users\\asus\\anaconda3\\lib\\site-packages (from importlib-metadata; python_version < \"3.8\"->markdown>=2.6.8->tensorboard<2.3.0,>=2.2.0->tensorflow==2.2.0) (2.2.0)\n",
      "Requirement already satisfied: oauthlib>=3.0.0 in c:\\users\\asus\\anaconda3\\lib\\site-packages (from requests-oauthlib>=0.7.0->google-auth-oauthlib<0.5,>=0.4.1->tensorboard<2.3.0,>=2.2.0->tensorflow==2.2.0) (3.1.0)\n",
      "Requirement already satisfied: pyasn1<0.5.0,>=0.4.6 in c:\\users\\asus\\anaconda3\\lib\\site-packages (from pyasn1-modules>=0.2.1->google-auth<2,>=1.6.3->tensorboard<2.3.0,>=2.2.0->tensorflow==2.2.0) (0.4.8)\n",
      "Note: you may need to restart the kernel to use updated packages.\n"
     ]
    }
   ],
   "source": [
    "pip install tensorflow==2.2.0"
   ]
  },
  {
   "cell_type": "code",
   "execution_count": 1,
   "metadata": {},
   "outputs": [],
   "source": [
    "import tensorflow as tf\n",
    "from tensorflow import keras\n",
    "import numpy as np\n",
    "import matplotlib.pyplot as plt"
   ]
  },
  {
   "cell_type": "code",
   "execution_count": 2,
   "metadata": {},
   "outputs": [
    {
     "name": "stdout",
     "output_type": "stream",
     "text": [
      "[9 0 0 ... 3 0 5]\n",
      "60000\n",
      "[9 2 1 ... 8 1 5]\n",
      "10000\n"
     ]
    }
   ],
   "source": [
    "data = keras.datasets.fashion_mnist\n",
    "(train_images, train_labels), (test_images, test_labels) = data.load_data()\n",
    "#print(train_images)\n",
    "print(train_labels) #The label is the type of item in image.\n",
    "print(len(train_labels))\n",
    "print(test_labels)\n",
    "print(len(test_labels))"
   ]
  },
  {
   "cell_type": "code",
   "execution_count": 14,
   "metadata": {},
   "outputs": [
    {
     "name": "stdout",
     "output_type": "stream",
     "text": [
      "[[[0 0 0 ... 0 0 0]\n",
      "  [0 0 0 ... 0 0 0]\n",
      "  [0 0 0 ... 0 0 0]\n",
      "  ...\n",
      "  [0 0 0 ... 0 0 0]\n",
      "  [0 0 0 ... 0 0 0]\n",
      "  [0 0 0 ... 0 0 0]]\n",
      "\n",
      " [[0 0 0 ... 0 0 0]\n",
      "  [0 0 0 ... 0 0 0]\n",
      "  [0 0 0 ... 0 0 0]\n",
      "  ...\n",
      "  [0 0 0 ... 0 0 0]\n",
      "  [0 0 0 ... 0 0 0]\n",
      "  [0 0 0 ... 0 0 0]]\n",
      "\n",
      " [[0 0 0 ... 0 0 0]\n",
      "  [0 0 0 ... 0 0 0]\n",
      "  [0 0 0 ... 0 0 0]\n",
      "  ...\n",
      "  [0 0 0 ... 0 0 0]\n",
      "  [0 0 0 ... 0 0 0]\n",
      "  [0 0 0 ... 0 0 0]]\n",
      "\n",
      " ...\n",
      "\n",
      " [[0 0 0 ... 0 0 0]\n",
      "  [0 0 0 ... 0 0 0]\n",
      "  [0 0 0 ... 0 0 0]\n",
      "  ...\n",
      "  [0 0 0 ... 0 0 0]\n",
      "  [0 0 0 ... 0 0 0]\n",
      "  [0 0 0 ... 0 0 0]]\n",
      "\n",
      " [[0 0 0 ... 0 0 0]\n",
      "  [0 0 0 ... 0 0 0]\n",
      "  [0 0 0 ... 0 0 0]\n",
      "  ...\n",
      "  [0 0 0 ... 0 0 0]\n",
      "  [0 0 0 ... 0 0 0]\n",
      "  [0 0 0 ... 0 0 0]]\n",
      "\n",
      " [[0 0 0 ... 0 0 0]\n",
      "  [0 0 0 ... 0 0 0]\n",
      "  [0 0 0 ... 0 0 0]\n",
      "  ...\n",
      "  [0 0 0 ... 0 0 0]\n",
      "  [0 0 0 ... 0 0 0]\n",
      "  [0 0 0 ... 0 0 0]]]\n",
      "[[  0   0   0   0   0   1   1   0   0   0   0  63  28   0   0   0  33  85\n",
      "    0   0   0   0   0   0   0   0   0   0]\n",
      " [  0   0   0   0   0   2   0   0  28 126 241 255 255 255 255 255 255 252\n",
      "  248 111   0   0   0   2   0   0   0   0]\n",
      " [  0   0   0   0   2   0   0 206 244 251 241 230 238 221 205 230 240 230\n",
      "  239 251 233 165   0   0   2   0   0   0]\n",
      " [  0   0   0   1   0   0 199 251 228 234 233 236 235 245 247 237 234 239\n",
      "  230 230 235 255 176   0   0   1   0   0]\n",
      " [  0   0   0   0   0  81 254 226 228 239 237 236 234 232 233 235 235 236\n",
      "  239 237 233 225 246  73   0   0   0   0]\n",
      " [  0   0   3   0   0 255 235 239 223 234 238 236 237 236 235 235 235 235\n",
      "  236 235 234 230 231 255  24   0   4   0]\n",
      " [  0   0   0   0 177 239 223 254 223 232 234 234 236 236 235 235 235 235\n",
      "  235 234 231 233 222 246  88   0   1   0]\n",
      " [  0   0   0   0 234 239 229 255 220 232 233 232 234 235 235 235 235 235\n",
      "  234 233 232 230 228 254 140   0   0   0]\n",
      " [  0   0   0   0 225 240 226 255 221 227 232 228 231 230 228 229 231 230\n",
      "  228 228 232 223 229 244 231   0   0   0]\n",
      " [  0   0   0  47 245 231 234 249 229 221 229 225 229 227 226 227 228 227\n",
      "  228 229 228 224 246 240 227   0   0   0]\n",
      " [  0   0   0  51 248 230 245 246 230 226 230 227 230 229 228 229 230 228\n",
      "  228 231 225 227 242 237 255   0   0   0]\n",
      " [  0   0   0 101 253 229 247 241 221 233 228 227 229 228 227 228 230 227\n",
      "  230 234 225 229 251 229 243  55   0   0]\n",
      " [  0   0   0 102 255 227 242 241 221 234 223 230 228 231 229 231 231 227\n",
      "  229 241 219 236 254 225 250 167   0   0]\n",
      " [  0   0   0  90 255 229 236 231 222 236 223 231 229 231 229 231 231 228\n",
      "  224 245 218 243 239 227 244 175   0   0]\n",
      " [  0   0   0 212 250 225 236 249 229 237 223 231 229 231 229 231 231 230\n",
      "  221 243 225 248 230 236 234 255   1   0]\n",
      " [  0   0   0 245 243 232 243 218 228 238 222 231 229 231 229 231 231 230\n",
      "  222 237 237 252 229 239 240 223   0   0]\n",
      " [  0   0  27 255 235 242 237 216 230 236 224 229 227 233 233 233 230 228\n",
      "  224 230 245 247 221 243 239 252   0   0]\n",
      " [  0   0  88 255 232 248 236 208 234 231 223 227 226 233 232 232 230 228\n",
      "  224 224 235 233 234 247 235 255   0   0]\n",
      " [  0   0  83 255 225 250 237 224 236 229 225 225 227 235 229 231 230 230\n",
      "  227 221 227 221 239 250 231 255   0   0]\n",
      " [  0   0  20 255 224 248 234 226 232 222 225 224 231 238 226 230 228 230\n",
      "  230 221 229 225 244 246 230 255   0   0]\n",
      " [  0   0  95 255 218 242 255 232 226 224 229 228 228 232 228 229 231 233\n",
      "  232 226 221 224 247 244 228 255   0   0]\n",
      " [  0   0 167 255 213 235 255  81 245 251 238 236 230 229 230 229 230 231\n",
      "  238 240 255 192 255 239 228 255  23   0]\n",
      " [  0   0 173 242 224 233 255   0 136 226 239 255 229 236 236 234 233 228\n",
      "  251 248 200  81 255 237 225 255 101   0]\n",
      " [  0   0 172 255 226 233 255   0   0   0   0   0   8  21  22  21  20  14\n",
      "    0   0   0   0 255 238 229 246 178   0]\n",
      " [  0   0  16 255 236 238 252   0   0   0   0   0   0   0   0   0   0   0\n",
      "    0   0   0   0 222 244 222 254 119   0]\n",
      " [  0   0   0  30 228 242 163   0   0   0   0   2   4   6   5   5   4   4\n",
      "    2   0   1   0 151 251 235 180   0   0]\n",
      " [  0   0   0   0 234 255 191   0  11   0   0   0   0   0   0   0   0   0\n",
      "    0   0   4   0 103 246 247  72   0   0]\n",
      " [  0   0   0   1  95  77  52   0   4   0   0   0   0   0   0   0   0   0\n",
      "    0   0   3   0  82 237 231  70   0   0]]\n"
     ]
    }
   ],
   "source": [
    "print(train_images) #>> the nested array, an array containing many arrays that represent pixels of images\n",
    "print(train_images[7]) #Select the 6th arrays containing the 6th array for image pixel value."
   ]
  },
  {
   "cell_type": "code",
   "execution_count": 3,
   "metadata": {},
   "outputs": [
    {
     "data": {
      "image/png": "[encoded data removed]",
      "text/plain": [
       "<Figure size 432x288 with 1 Axes>"
      ]
     },
     "metadata": {
      "needs_background": "light"
     },
     "output_type": "display_data"
    }
   ],
   "source": [
    "class_names = ['T-shirt/top', 'Trouser', 'Pullover', 'Dress', 'Coat',\n",
    "               'Sandal', 'Shirt', 'Sneaker', 'Bag', 'Ankle boot']\n",
    "\n",
    "plt.imshow(train_images[7], cmap = plt.cm.binary)\n",
    "\n",
    "plt.show()"
   ]
  },
  {
   "cell_type": "code",
   "execution_count": 4,
   "metadata": {},
   "outputs": [
    {
     "name": "stdout",
     "output_type": "stream",
     "text": [
      "60000\n"
     ]
    }
   ],
   "source": [
    "#Shrink data into smaller decimal values for convenient working for models.\n",
    "train_images = train_images / 140.0\n",
    "test_images = test_images / 140.0\n",
    "\n",
    "print(len(train_images))"
   ]
  },
  {
   "cell_type": "code",
   "execution_count": 9,
   "metadata": {},
   "outputs": [
    {
     "name": "stdout",
     "output_type": "stream",
     "text": [
      "[[0.         0.         0.         0.         0.         0.\n",
      "  0.         0.         0.         0.         0.         0.\n",
      "  0.         0.         0.         0.         0.         0.\n",
      "  0.         0.         0.         0.         0.         0.\n",
      "  0.         0.         0.         0.        ]\n",
      " [0.         0.         0.         0.         0.         0.\n",
      "  0.         0.         0.         0.         0.         0.\n",
      "  0.         0.         0.         0.         0.         0.\n",
      "  0.         0.         0.         0.         0.         0.\n",
      "  0.         0.         0.         0.        ]\n",
      " [0.         0.         0.         0.         0.         0.\n",
      "  0.         0.         0.         0.         0.         0.\n",
      "  0.         0.         0.         0.         0.         0.\n",
      "  0.         0.         0.         0.         0.         0.\n",
      "  0.         0.         0.         0.        ]\n",
      " [0.         0.         0.         0.         0.         0.\n",
      "  0.         0.         0.         0.         0.         0.\n",
      "  0.00714286 0.         0.         0.09285714 0.52142857 0.\n",
      "  0.         0.00714286 0.02857143 0.         0.         0.\n",
      "  0.         0.00714286 0.00714286 0.        ]\n",
      " [0.         0.         0.         0.         0.         0.\n",
      "  0.         0.         0.         0.         0.         0.\n",
      "  0.02142857 0.         0.25714286 0.97142857 0.90714286 0.44285714\n",
      "  0.38571429 0.         0.         0.         0.00714286 0.02142857\n",
      "  0.02857143 0.         0.         0.02142857]\n",
      " [0.         0.         0.         0.         0.         0.\n",
      "  0.         0.         0.         0.         0.         0.\n",
      "  0.04285714 0.         0.72857143 1.45714286 1.25714286 0.95714286\n",
      "  1.02857143 0.87857143 0.16428571 0.         0.         0.\n",
      "  0.         0.08571429 0.07142857 0.        ]\n",
      " [0.         0.         0.         0.         0.         0.\n",
      "  0.         0.         0.         0.         0.         0.\n",
      "  0.         0.         1.10714286 1.68571429 1.47857143 1.27142857\n",
      "  0.76428571 1.11428571 1.15       0.77857143 0.45714286 0.16428571\n",
      "  0.55       0.92857143 0.51428571 0.10714286]\n",
      " [0.         0.         0.         0.         0.         0.\n",
      "  0.         0.         0.         0.         0.         0.00714286\n",
      "  0.         0.49285714 1.47857143 1.59285714 1.55714286 1.54285714\n",
      "  1.54285714 1.16428571 0.90714286 0.86428571 0.87142857 1.04285714\n",
      "  1.00714286 0.62857143 1.22857143 0.47142857]\n",
      " [0.         0.         0.         0.         0.         0.\n",
      "  0.         0.         0.         0.00714286 0.00714286 0.00714286\n",
      "  0.         1.42857143 1.65714286 1.65714286 1.66428571 1.63571429\n",
      "  1.59285714 1.59285714 1.53571429 1.52142857 1.17142857 0.90714286\n",
      "  0.87857143 1.4        1.63571429 0.        ]\n",
      " [0.         0.         0.         0.         0.         0.\n",
      "  0.         0.         0.         0.         0.         0.\n",
      "  0.         1.30714286 1.60714286 1.54285714 1.59285714 1.62857143\n",
      "  1.67857143 1.62142857 1.6        1.58571429 1.6        1.57857143\n",
      "  1.59285714 1.75       1.23571429 0.        ]\n",
      " [0.         0.         0.         0.         0.         0.\n",
      "  0.         0.         0.         0.         0.         0.\n",
      "  0.         1.37857143 1.62857143 1.55714286 1.52142857 1.41428571\n",
      "  1.28571429 1.51428571 1.5        1.50714286 1.52142857 1.59285714\n",
      "  1.57142857 1.73571429 1.44285714 0.        ]\n",
      " [0.         0.         0.         0.         0.         0.\n",
      "  0.         0.         0.         0.00714286 0.02142857 0.\n",
      "  0.08571429 1.56428571 1.57142857 1.51428571 1.55714286 1.37142857\n",
      "  1.20714286 1.62142857 1.48571429 1.55714286 1.6        1.51428571\n",
      "  1.61428571 1.40714286 1.49285714 0.37142857]\n",
      " [0.         0.         0.         0.         0.         0.\n",
      "  0.         0.         0.         0.         0.04285714 0.\n",
      "  0.70714286 1.74285714 1.58571429 1.57142857 1.55714286 1.45\n",
      "  1.41428571 1.57857143 1.53571429 1.52142857 1.58571429 1.57142857\n",
      "  1.75       0.85       1.19285714 0.4       ]\n",
      " [0.         0.         0.         0.         0.         0.\n",
      "  0.         0.         0.         0.02857143 0.         0.\n",
      "  0.39285714 1.68571429 1.62857143 1.64285714 1.62857143 1.71428571\n",
      "  1.65714286 1.52142857 1.55714286 1.59285714 1.67142857 1.55\n",
      "  1.55       1.49285714 0.65714286 0.        ]\n",
      " [0.         0.         0.00714286 0.02857143 0.04285714 0.05\n",
      "  0.01428571 0.         0.         0.         0.         0.\n",
      "  1.69285714 1.61428571 1.55       1.59285714 1.58571429 1.56428571\n",
      "  1.58571429 1.57857143 1.54285714 1.59285714 1.63571429 1.53571429\n",
      "  1.55714286 1.82142857 0.55       0.        ]\n",
      " [0.         0.02142857 0.         0.         0.         0.\n",
      "  0.         0.         0.         0.44285714 1.03571429 1.45714286\n",
      "  1.62857143 1.47857143 1.52142857 1.57857143 1.55714286 1.48571429\n",
      "  1.50714286 1.55714286 1.6        1.59285714 1.56428571 1.53571429\n",
      "  1.6        1.74285714 1.13571429 0.        ]\n",
      " [0.         0.         0.         0.         0.12857143 0.31428571\n",
      "  0.58571429 0.76428571 1.35       1.62857143 1.57142857 1.58571429\n",
      "  1.55       1.61428571 1.42857143 1.46428571 1.50714286 1.64285714\n",
      "  1.6        1.67142857 1.25714286 1.34285714 1.78571429 1.77142857\n",
      "  1.66428571 1.7        1.53571429 0.        ]\n",
      " [0.         0.40714286 1.33571429 1.48571429 1.6        1.57857143\n",
      "  1.6        1.48571429 1.45714286 1.52857143 1.48571429 1.49285714\n",
      "  1.42857143 1.13571429 1.75       1.37857143 1.47142857 1.59285714\n",
      "  1.82142857 1.82142857 1.57857143 1.67142857 1.57857143 1.50714286\n",
      "  1.57142857 1.65714286 1.75714286 0.        ]\n",
      " [0.02142857 1.44285714 1.62857143 1.6        1.57857143 1.50714286\n",
      "  1.50714286 1.52857143 1.46428571 1.46428571 1.46428571 1.57142857\n",
      "  1.71428571 0.57142857 1.07142857 1.82142857 1.63571429 1.57857143\n",
      "  1.34285714 1.1        1.36428571 1.5        1.45714286 1.49285714\n",
      "  1.58571429 1.62857143 1.60714286 0.        ]\n",
      " [0.7        1.66428571 1.41428571 1.5        1.58571429 1.63571429\n",
      "  1.63571429 1.67142857 1.77857143 1.57142857 1.38571429 1.53571429\n",
      "  1.55       1.72142857 0.46428571 0.52142857 0.75714286 0.83571429\n",
      "  1.2        1.56428571 1.57857143 1.53571429 1.55       1.59285714\n",
      "  1.59285714 1.6        1.63571429 0.20714286]\n",
      " [0.53571429 1.45714286 1.51428571 1.45714286 1.37857143 1.46428571\n",
      "  1.50714286 1.60714286 1.54285714 1.32142857 1.40714286 1.47142857\n",
      "  1.41428571 1.52142857 1.71428571 1.39285714 1.62142857 1.75\n",
      "  1.70714286 1.59285714 1.55714286 1.51428571 1.49285714 1.58571429\n",
      "  1.57142857 1.57857143 1.64285714 0.47857143]\n",
      " [0.34285714 1.45       1.30714286 1.38571429 1.52142857 1.40714286\n",
      "  1.32142857 1.35714286 1.38571429 1.37142857 1.44285714 1.52857143\n",
      "  1.56428571 1.57857143 1.57142857 1.68571429 1.60714286 1.54285714\n",
      "  1.42142857 1.47142857 1.32857143 1.29285714 1.26428571 1.22857143\n",
      "  1.29285714 1.46428571 1.47142857 0.82142857]\n",
      " [0.         0.87142857 1.56428571 1.37857143 1.27857143 1.22142857\n",
      "  1.30714286 1.4        1.45714286 1.5        1.52142857 1.47857143\n",
      "  1.50714286 1.5        1.42857143 1.4        1.38571429 1.36428571\n",
      "  1.39285714 1.36428571 1.41428571 1.37142857 1.25714286 1.11428571\n",
      "  1.19285714 1.26428571 1.5        0.65714286]\n",
      " [0.         0.         0.52857143 1.35       1.51428571 1.36428571\n",
      "  1.25       1.22857143 1.25       1.29285714 1.32142857 1.34285714\n",
      "  1.35       1.34285714 1.37857143 1.41428571 1.45714286 1.49285714\n",
      "  1.5        1.5        1.50714286 1.34285714 1.34285714 1.38571429\n",
      "  1.37142857 1.54285714 1.21428571 0.        ]\n",
      " [0.01428571 0.         0.         0.         0.47142857 1.42857143\n",
      "  1.58571429 1.69285714 1.70714286 1.72857143 1.75714286 1.73571429\n",
      "  1.74285714 1.57857143 1.57142857 1.37857143 1.36428571 1.27857143\n",
      "  1.3        1.3        1.29285714 1.25714286 1.18571429 1.2\n",
      "  0.70714286 0.41428571 0.         0.        ]\n",
      " [0.         0.         0.         0.         0.         0.\n",
      "  0.         0.28571429 0.43571429 0.31428571 0.51428571 0.29285714\n",
      "  0.25       0.         0.         0.         0.         0.\n",
      "  0.         0.         0.         0.         0.         0.\n",
      "  0.         0.         0.         0.        ]\n",
      " [0.         0.         0.         0.         0.         0.\n",
      "  0.         0.         0.         0.         0.         0.\n",
      "  0.         0.         0.         0.         0.         0.\n",
      "  0.         0.         0.         0.         0.         0.\n",
      "  0.         0.         0.         0.        ]\n",
      " [0.         0.         0.         0.         0.         0.\n",
      "  0.         0.         0.         0.         0.         0.\n",
      "  0.         0.         0.         0.         0.         0.\n",
      "  0.         0.         0.         0.         0.         0.\n",
      "  0.         0.         0.         0.        ]]\n"
     ]
    }
   ],
   "source": [
    "#See shrunk datasets\n",
    "print(train_images[0])"
   ]
  },
  {
   "cell_type": "code",
   "execution_count": 5,
   "metadata": {},
   "outputs": [
    {
     "name": "stdout",
     "output_type": "stream",
     "text": [
      "Epoch 1/5\n",
      "1875/1875 [==============================] - 2s 1ms/step - loss: 0.4922 - accuracy: 0.8251\n",
      "Epoch 2/5\n",
      "1875/1875 [==============================] - 2s 1ms/step - loss: 0.3679 - accuracy: 0.8666\n",
      "Epoch 3/5\n",
      "1875/1875 [==============================] - 2s 1ms/step - loss: 0.3348 - accuracy: 0.8775\n",
      "Epoch 4/5\n",
      "1875/1875 [==============================] - 2s 1ms/step - loss: 0.3132 - accuracy: 0.8858\n",
      "Epoch 5/5\n",
      "1875/1875 [==============================] - 2s 1ms/step - loss: 0.2958 - accuracy: 0.8914\n",
      "313/313 [==============================] - 0s 910us/step - loss: 0.3644 - accuracy: 0.8698\n",
      "test accuracy  0.8697999715805054\n"
     ]
    }
   ],
   "source": [
    "#Try basic modelling >> One (hidden) layer NN \n",
    "\n",
    "#Define the format of the model.\n",
    "model = keras.Sequential([\n",
    "    keras.layers.Flatten(input_shape = (28, 28)),\n",
    "    keras.layers.Dense(128, activation = 'relu'), #the number assigned is the #hidden units.\n",
    "    keras.layers.Dense(10, activation = 'softmax') #Th number asigned is the #classes of our image.\n",
    "    ])\n",
    "\n",
    "#Define the solver and metrics for ongoing model validation.\n",
    "model.compile(optimizer = 'adam', loss = 'sparse_categorical_crossentropy', metrics = ['accuracy'])\n",
    "\n",
    "#Fit/Train the model with training information.\n",
    "model.fit(train_images, train_labels, epochs = 5)\n",
    "\n",
    "#Evaluate the performance on prediction over testing set.\n",
    "test_loss, test_acc = model.evaluate(test_images, test_labels)\n",
    "\n",
    "print(\"test accuracy \", test_acc)\n"
   ]
  },
  {
   "cell_type": "code",
   "execution_count": 6,
   "metadata": {},
   "outputs": [
    {
     "name": "stdout",
     "output_type": "stream",
     "text": [
      "[[2.0275443e-06 9.1366220e-10 1.3027946e-07 ... 7.4217105e-03\n",
      "  1.4668984e-06 9.9220687e-01]\n",
      " [9.7463444e-06 1.5952621e-13 9.8194581e-01 ... 9.1098777e-20\n",
      "  4.9146746e-12 2.5219813e-15]\n",
      " [1.0631469e-08 1.0000000e+00 6.5324093e-11 ... 1.6409066e-26\n",
      "  5.8204937e-11 3.7254666e-17]\n",
      " ...\n",
      " [1.1064323e-02 1.2011764e-06 2.4447069e-03 ... 3.0466474e-08\n",
      "  9.7386009e-01 2.6593800e-09]\n",
      " [2.1717334e-08 9.9999034e-01 8.9640195e-10 ... 2.0100335e-17\n",
      "  7.9570901e-09 1.6069256e-12]\n",
      " [4.7236774e-04 6.3769124e-07 5.5483053e-04 ... 2.2792274e-02\n",
      "  3.8451366e-03 1.7669375e-04]]\n"
     ]
    }
   ],
   "source": [
    "#Prediction\n",
    "pred = model.predict(test_images)\n",
    "print(pred)"
   ]
  },
  {
   "cell_type": "code",
   "execution_count": 7,
   "metadata": {},
   "outputs": [
    {
     "name": "stdout",
     "output_type": "stream",
     "text": [
      "[2.0275443e-06 9.1366220e-10 1.3027946e-07 1.2895102e-09 1.0794528e-08\n",
      " 3.6554056e-04 2.2603385e-06 7.4217105e-03 1.4668984e-06 9.9220687e-01]\n",
      "9.136622e-10\n"
     ]
    }
   ],
   "source": [
    "print(pred[0])\n",
    "print(pred[0][1])"
   ]
  },
  {
   "cell_type": "code",
   "execution_count": 10,
   "metadata": {},
   "outputs": [
    {
     "name": "stdout",
     "output_type": "stream",
     "text": [
      "Ankle boot\n",
      "9\n"
     ]
    }
   ],
   "source": [
    "print(class_names[np.argmax(pred[0])])\n",
    "print(test_labels[0])"
   ]
  },
  {
   "cell_type": "code",
   "execution_count": 26,
   "metadata": {},
   "outputs": [
    {
     "data": {
      "image/png": "[encoded data removed]",
      "text/plain": [
       "<Figure size 432x288 with 1 Axes>"
      ]
     },
     "metadata": {
      "needs_background": "light"
     },
     "output_type": "display_data"
    },
    {
     "data": {
      "image/png": "[encoded data removed]",
      "text/plain": [
       "<Figure size 432x288 with 1 Axes>"
      ]
     },
     "metadata": {
      "needs_background": "light"
     },
     "output_type": "display_data"
    },
    {
     "data": {
      "image/png": "[encoded data removed]",
      "text/plain": [
       "<Figure size 432x288 with 1 Axes>"
      ]
     },
     "metadata": {
      "needs_background": "light"
     },
     "output_type": "display_data"
    },
    {
     "data": {
      "image/png": "[encoded data removed]",
      "text/plain": [
       "<Figure size 432x288 with 1 Axes>"
      ]
     },
     "metadata": {
      "needs_background": "light"
     },
     "output_type": "display_data"
    },
    {
     "data": {
      "image/png": "[encoded data removed]",
      "text/plain": [
       "<Figure size 432x288 with 1 Axes>"
      ]
     },
     "metadata": {
      "needs_background": "light"
     },
     "output_type": "display_data"
    }
   ],
   "source": [
    "#See the image and its corresponding predicted/actual results \n",
    "#Number in range represents how many images you wanna see.\n",
    "\n",
    "for i in range(5):\n",
    "    plt.grid(False)\n",
    "    plt.imshow(test_images[i], cmap = plt.cm.binary)\n",
    "    #plt.xlabel(f\"Actual Result:{test_labels[i]}\")\n",
    "    plt.xlabel(\"Actual Result: \" + str(class_names[test_labels[i]]))\n",
    "    #If we consider plt.xlabel(\"Actual Result: \", test_labels[i]), the result will become pop issue 'numpy.uint8' object has no attribute 'pop'\n",
    "    #It can only support \"string\" value, in str(). This is same as plt.title () below.\n",
    "    plt.title(f\"Predicted Result: {class_names[np.argmax(pred[i])]}\")\n",
    "    plt.show()"
   ]
  },
  {
   "cell_type": "code",
   "execution_count": null,
   "metadata": {},
   "outputs": [],
   "source": []
  }
 ],
 "metadata": {
  "kernelspec": {
   "display_name": "Python 3",
   "language": "python",
   "name": "python3"
  },
  "language_info": {
   "codemirror_mode": {
    "name": "ipython",
    "version": 3
   },
   "file_extension": ".py",
   "mimetype": "text/x-python",
   "name": "python",
   "nbconvert_exporter": "python",
   "pygments_lexer": "ipython3",
   "version": "3.7.6"
  }
 },
 "nbformat": 4,
 "nbformat_minor": 4
}
